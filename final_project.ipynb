{
 "cells": [
  {
   "cell_type": "markdown",
   "metadata": {},
   "source": [
    "### <center>Финальный проект курса \"Введение в машинное обучение\"</center>\n",
    "#### <center>Предсказание победителя в онлайн-игре</center>                       "
   ]
  },
  {
   "cell_type": "markdown",
   "metadata": {},
   "source": [
    "**Предметная область: Игра Dota 2**\n",
    "\n",
    "Набор данных с матчами записан в файлах features.csv и features_test.csv."
   ]
  },
  {
   "cell_type": "markdown",
   "metadata": {},
   "source": [
    "### Подход 1: градиентный бустинг"
   ]
  },
  {
   "cell_type": "code",
   "execution_count": 1,
   "metadata": {
    "collapsed": true
   },
   "outputs": [],
   "source": [
    "import time\n",
    "import datetime"
   ]
  },
  {
   "cell_type": "code",
   "execution_count": 3,
   "metadata": {},
   "outputs": [
    {
     "data": {
      "text/html": [
       "<div>\n",
       "<table border=\"1\" class=\"dataframe\">\n",
       "  <thead>\n",
       "    <tr style=\"text-align: right;\">\n",
       "      <th></th>\n",
       "      <th>start_time</th>\n",
       "      <th>lobby_type</th>\n",
       "      <th>r1_hero</th>\n",
       "      <th>r1_level</th>\n",
       "      <th>r1_xp</th>\n",
       "      <th>r1_gold</th>\n",
       "      <th>r1_lh</th>\n",
       "      <th>r1_kills</th>\n",
       "      <th>r1_deaths</th>\n",
       "      <th>r1_items</th>\n",
       "      <th>...</th>\n",
       "      <th>dire_boots_count</th>\n",
       "      <th>dire_ward_observer_count</th>\n",
       "      <th>dire_ward_sentry_count</th>\n",
       "      <th>dire_first_ward_time</th>\n",
       "      <th>duration</th>\n",
       "      <th>radiant_win</th>\n",
       "      <th>tower_status_radiant</th>\n",
       "      <th>tower_status_dire</th>\n",
       "      <th>barracks_status_radiant</th>\n",
       "      <th>barracks_status_dire</th>\n",
       "    </tr>\n",
       "    <tr>\n",
       "      <th>match_id</th>\n",
       "      <th></th>\n",
       "      <th></th>\n",
       "      <th></th>\n",
       "      <th></th>\n",
       "      <th></th>\n",
       "      <th></th>\n",
       "      <th></th>\n",
       "      <th></th>\n",
       "      <th></th>\n",
       "      <th></th>\n",
       "      <th></th>\n",
       "      <th></th>\n",
       "      <th></th>\n",
       "      <th></th>\n",
       "      <th></th>\n",
       "      <th></th>\n",
       "      <th></th>\n",
       "      <th></th>\n",
       "      <th></th>\n",
       "      <th></th>\n",
       "      <th></th>\n",
       "    </tr>\n",
       "  </thead>\n",
       "  <tbody>\n",
       "    <tr>\n",
       "      <th>0</th>\n",
       "      <td>1430198770</td>\n",
       "      <td>7</td>\n",
       "      <td>11</td>\n",
       "      <td>5</td>\n",
       "      <td>2098</td>\n",
       "      <td>1489</td>\n",
       "      <td>20</td>\n",
       "      <td>0</td>\n",
       "      <td>0</td>\n",
       "      <td>7</td>\n",
       "      <td>...</td>\n",
       "      <td>4</td>\n",
       "      <td>2</td>\n",
       "      <td>2</td>\n",
       "      <td>-52.0</td>\n",
       "      <td>2874</td>\n",
       "      <td>1</td>\n",
       "      <td>1796</td>\n",
       "      <td>0</td>\n",
       "      <td>51</td>\n",
       "      <td>0</td>\n",
       "    </tr>\n",
       "    <tr>\n",
       "      <th>1</th>\n",
       "      <td>1430220345</td>\n",
       "      <td>0</td>\n",
       "      <td>42</td>\n",
       "      <td>4</td>\n",
       "      <td>1188</td>\n",
       "      <td>1033</td>\n",
       "      <td>9</td>\n",
       "      <td>0</td>\n",
       "      <td>1</td>\n",
       "      <td>12</td>\n",
       "      <td>...</td>\n",
       "      <td>4</td>\n",
       "      <td>3</td>\n",
       "      <td>1</td>\n",
       "      <td>-5.0</td>\n",
       "      <td>2463</td>\n",
       "      <td>1</td>\n",
       "      <td>1974</td>\n",
       "      <td>0</td>\n",
       "      <td>63</td>\n",
       "      <td>1</td>\n",
       "    </tr>\n",
       "    <tr>\n",
       "      <th>2</th>\n",
       "      <td>1430227081</td>\n",
       "      <td>7</td>\n",
       "      <td>33</td>\n",
       "      <td>4</td>\n",
       "      <td>1319</td>\n",
       "      <td>1270</td>\n",
       "      <td>22</td>\n",
       "      <td>0</td>\n",
       "      <td>0</td>\n",
       "      <td>12</td>\n",
       "      <td>...</td>\n",
       "      <td>4</td>\n",
       "      <td>3</td>\n",
       "      <td>1</td>\n",
       "      <td>13.0</td>\n",
       "      <td>2130</td>\n",
       "      <td>0</td>\n",
       "      <td>0</td>\n",
       "      <td>1830</td>\n",
       "      <td>0</td>\n",
       "      <td>63</td>\n",
       "    </tr>\n",
       "  </tbody>\n",
       "</table>\n",
       "<p>3 rows × 108 columns</p>\n",
       "</div>"
      ],
      "text/plain": [
       "          start_time  lobby_type  r1_hero  r1_level  r1_xp  r1_gold  r1_lh  \\\n",
       "match_id                                                                     \n",
       "0         1430198770           7       11         5   2098     1489     20   \n",
       "1         1430220345           0       42         4   1188     1033      9   \n",
       "2         1430227081           7       33         4   1319     1270     22   \n",
       "\n",
       "          r1_kills  r1_deaths  r1_items          ...           \\\n",
       "match_id                                         ...            \n",
       "0                0          0         7          ...            \n",
       "1                0          1        12          ...            \n",
       "2                0          0        12          ...            \n",
       "\n",
       "          dire_boots_count  dire_ward_observer_count  dire_ward_sentry_count  \\\n",
       "match_id                                                                       \n",
       "0                        4                         2                       2   \n",
       "1                        4                         3                       1   \n",
       "2                        4                         3                       1   \n",
       "\n",
       "          dire_first_ward_time  duration  radiant_win  tower_status_radiant  \\\n",
       "match_id                                                                      \n",
       "0                        -52.0      2874            1                  1796   \n",
       "1                         -5.0      2463            1                  1974   \n",
       "2                         13.0      2130            0                     0   \n",
       "\n",
       "          tower_status_dire  barracks_status_radiant  barracks_status_dire  \n",
       "match_id                                                                    \n",
       "0                         0                       51                     0  \n",
       "1                         0                       63                     1  \n",
       "2                      1830                        0                    63  \n",
       "\n",
       "[3 rows x 108 columns]"
      ]
     },
     "execution_count": 3,
     "metadata": {},
     "output_type": "execute_result"
    }
   ],
   "source": [
    "import pandas as pd\n",
    "data_train = pd.read_csv('C:./features.csv', index_col = 'match_id')\n",
    "data_train.head(3)"
   ]
  },
  {
   "cell_type": "markdown",
   "metadata": {},
   "source": [
    "Удаляем признаки, связанные с итогами матча."
   ]
  },
  {
   "cell_type": "code",
   "execution_count": 4,
   "metadata": {},
   "outputs": [
    {
     "data": {
      "text/plain": [
       "(97230, 102)"
      ]
     },
     "execution_count": 4,
     "metadata": {},
     "output_type": "execute_result"
    }
   ],
   "source": [
    "result_col = ['duration', 'radiant_win', 'tower_status_radiant', 'tower_status_dire', \n",
    "              'barracks_status_radiant', 'barracks_status_dire']\n",
    "X_train = data_train.drop(result_col, axis = 1)\n",
    "X_train.shape"
   ]
  },
  {
   "cell_type": "markdown",
   "metadata": {},
   "source": [
    "Проверим выборку на наличие пропусков с помощью функции count(), которая для каждого столбца показывает число заполненных значений. \n",
    "\n",
    "Запишем названия признаков, имеющих пропуски, и соответствующее им количество заполненных значений."
   ]
  },
  {
   "cell_type": "code",
   "execution_count": 5,
   "metadata": {},
   "outputs": [
    {
     "name": "stdout",
     "output_type": "stream",
     "text": [
      "first_blood_time 77677\n",
      "first_blood_team 77677\n",
      "first_blood_player1 77677\n",
      "first_blood_player2 53243\n",
      "radiant_bottle_time 81539\n",
      "radiant_courier_time 96538\n",
      "radiant_flying_courier_time 69751\n",
      "radiant_first_ward_time 95394\n",
      "dire_bottle_time 81087\n",
      "dire_courier_time 96554\n",
      "dire_flying_courier_time 71132\n",
      "dire_first_ward_time 95404\n"
     ]
    }
   ],
   "source": [
    "count = X_train.count()\n",
    "for i in range(102):\n",
    "    if(count[i] < 97230):\n",
    "        print(count.index[i], count[i])"
   ]
  },
  {
   "cell_type": "markdown",
   "metadata": {},
   "source": [
    "Заменяем пропуски на нули с помощью fillna()."
   ]
  },
  {
   "cell_type": "code",
   "execution_count": 6,
   "metadata": {
    "collapsed": true
   },
   "outputs": [],
   "source": [
    "X_train = X_train.fillna(0)"
   ]
  },
  {
   "cell_type": "markdown",
   "metadata": {},
   "source": [
    "Столбец 'radiant_win' содержит целевую переменную."
   ]
  },
  {
   "cell_type": "code",
   "execution_count": 7,
   "metadata": {
    "collapsed": true
   },
   "outputs": [],
   "source": [
    "y_train = data_train['radiant_win']"
   ]
  },
  {
   "cell_type": "markdown",
   "metadata": {},
   "source": [
    "Фиксируем генератор разбиений для кросс-валидации по 5 блокам."
   ]
  },
  {
   "cell_type": "code",
   "execution_count": 8,
   "metadata": {
    "collapsed": true
   },
   "outputs": [],
   "source": [
    "from sklearn.model_selection import KFold\n",
    "kf = KFold(n_splits=5, shuffle=True)"
   ]
  },
  {
   "cell_type": "markdown",
   "metadata": {},
   "source": [
    "Оценим качество градиентного бустинга (GradientBoostingClassifier) с помощью данной кросс-валидации.\n",
    "\n",
    "Попробуем при этом разное количество деревьев - 10, 20, 30 и 40"
   ]
  },
  {
   "cell_type": "code",
   "execution_count": 9,
   "metadata": {},
   "outputs": [
    {
     "name": "stdout",
     "output_type": "stream",
     "text": [
      "n_estimators = 10, Time elapsed = 0:02:46.372793\n",
      "n_estimators = 10, Score = 0.665780867531\n",
      "n_estimators = 20, Time elapsed = 0:04:42.102043\n",
      "n_estimators = 20, Score = 0.682417482077\n",
      "n_estimators = 30, Time elapsed = 0:06:58.558655\n",
      "n_estimators = 30, Score = 0.689601170713\n",
      "n_estimators = 40, Time elapsed = 0:09:34.923976\n",
      "n_estimators = 40, Score = 0.693818447332\n"
     ]
    }
   ],
   "source": [
    "import numpy as np\n",
    "from sklearn.ensemble import GradientBoostingClassifier\n",
    "from sklearn.model_selection import cross_val_score\n",
    "\n",
    "lst_n_est = [10, 20, 30, 40]\n",
    "\n",
    "for n_est in lst_n_est:\n",
    "    start_time = datetime.datetime.now()\n",
    "    clf = GradientBoostingClassifier(n_estimators=n_est, random_state=241)\n",
    "    clf.fit(X_train, y_train)\n",
    "    score = np.mean(cross_val_score(clf, X_train, y_train, scoring='roc_auc', cv=kf))\n",
    "    print (\"n_estimators = %s, Time elapsed = %s\" % (n_est, datetime.datetime.now() - start_time))\n",
    "    \n",
    "    #val = round(scores.mean()*100,2)#берем среднее значение оценки\n",
    "    print(\"n_estimators = %s, Score = %s\" % (n_est,score))"
   ]
  },
  {
   "cell_type": "markdown",
   "metadata": {},
   "source": [
    "**Мини-отчет для подхода 1: градиентный бустинг \"в лоб\"**\n",
    "\n",
    "* Какие признаки имеют пропуски среди своих значений? Что могут означать пропуски в этих признаках (ответьте на этот вопрос для двух любых признаков)?\n",
    "\n",
    "--> first_blood_time (Если событие \"первая кровь\" не успело произойти за первые 5 минут, то признаки принимают пропущенное значение)\n",
    "\n",
    "--> first_blood_team \n",
    "\n",
    "--> first_blood_player1 \n",
    "\n",
    "--> first_blood_player2 \n",
    "\n",
    "--> radiant_bottle_time (Это  время первого приобретения командой предмета \"bottle\". За первые 5 минут команда могла и не приобрести предмет \"bottle\" вовсе)\n",
    "\n",
    "--> radiant_courier_time\n",
    "\n",
    "--> radiant_flying_courier_time \n",
    "\n",
    "--> radiant_first_ward_time \n",
    "\n",
    "--> dire_bottle_time \n",
    "\n",
    "--> dire_courier_time \n",
    "\n",
    "--> dire_flying_courier_time \n",
    "\n",
    "--> dire_first_ward_time \n",
    "\n",
    "* Как называется столбец, содержащий целевую переменную?\n",
    "\n",
    "radiant_win: 1, если победила команда Radiant, 0 — иначе\n",
    "\n",
    "* Как долго проводилась кросс-валидация для градиентного бустинга с 30 деревьями?\n",
    "\n",
    "Приблизительно 7 минут (время очень зависит от характеристик и работоспособности компьютера). \n",
    "\n",
    "* Имеет ли смысл использовать больше 30 деревьев в градиентном бустинге? Что бы вы предложили делать, чтобы ускорить его обучение при увеличении количества деревьев?\n",
    "\n",
    "Время обучения увеличивается сильно с увеличением числа деревьев, а качество улучшается слабо.\n",
    "Чтобы ускорить обучение можно уменьшить глубину деревьев и количество признаков, а также использовать признаки, имеющие максимальный вес при бустинге."
   ]
  },
  {
   "cell_type": "markdown",
   "metadata": {},
   "source": [
    "### Подход 2: логистическая регрессия"
   ]
  },
  {
   "cell_type": "markdown",
   "metadata": {},
   "source": [
    "Оцениваем качество логистической регрессии (sklearn.linear_model.LogisticRegression с L2-регуляризацией) с помощью кросс-валидации по той же схеме, которая использовалась для градиентного бустинга. Подбераем при этом лучший параметр регуляризации (C)."
   ]
  },
  {
   "cell_type": "code",
   "execution_count": 10,
   "metadata": {
    "collapsed": true
   },
   "outputs": [],
   "source": [
    "from sklearn.linear_model import LogisticRegression\n",
    "from sklearn.model_selection import GridSearchCV\n",
    "\n",
    "param_grid_C = {'C': np.linspace(0.001, 0.01, 25)}\n",
    "\n",
    "def get_logreg_score(X, y):   \n",
    "\n",
    "    logreg_grid = GridSearchCV(LogisticRegression(random_state=241), param_grid_C, cv=kf, \n",
    "                         scoring='roc_auc')\n",
    "    logreg_grid.fit(X, y)\n",
    "    print(\"Best parameter \", logreg_grid.best_params_)\n",
    "    print(\"Best score \", logreg_grid.best_score_)   \n",
    "    \n",
    "    start_time = datetime.datetime.now()\n",
    "    logreg = LogisticRegression(random_state=241, **logreg_grid.best_params_)\n",
    "    logreg.fit(X, y)\n",
    "    score_logreg = np.mean(cross_val_score(logreg, X, y, scoring='roc_auc', cv=kf))\n",
    "    print (\"Time elapsed = \" ,  datetime.datetime.now() - start_time)"
   ]
  },
  {
   "cell_type": "markdown",
   "metadata": {},
   "source": [
    "Качество для выборки, в которой признаки НЕ отмасшабированы:"
   ]
  },
  {
   "cell_type": "code",
   "execution_count": 11,
   "metadata": {},
   "outputs": [
    {
     "name": "stdout",
     "output_type": "stream",
     "text": [
      "Best parameter  {'C': 0.001}\n",
      "Best score  0.513449630822\n",
      "Time elapsed =  0:00:08.651088\n"
     ]
    }
   ],
   "source": [
    "get_logreg_score(X_train, y_train)"
   ]
  },
  {
   "cell_type": "markdown",
   "metadata": {},
   "source": [
    "Качество для выборки, в которой признаки отмасшабированы:"
   ]
  },
  {
   "cell_type": "code",
   "execution_count": 12,
   "metadata": {},
   "outputs": [
    {
     "name": "stdout",
     "output_type": "stream",
     "text": [
      "Best parameter  {'C': 0.0043750000000000004}\n",
      "Best score  0.716164194651\n",
      "Time elapsed =  0:00:37.340191\n"
     ]
    }
   ],
   "source": [
    "from sklearn.preprocessing import StandardScaler\n",
    "X_train_scaled = pd.DataFrame(data = StandardScaler().fit_transform(X_train))\n",
    "\n",
    "get_logreg_score(X_train_scaled, y_train)"
   ]
  },
  {
   "cell_type": "markdown",
   "metadata": {},
   "source": [
    "Заметим, что нормализация признаков значительно увеличила качество.\n",
    "\n",
    "Среди признаков в выборке есть категориальные, которые мы использовали как числовые, что вряд ли является хорошей идеей. Категориальных признаков в этой задаче одиннадцать: lobby_type и r1_hero, r2_hero, ..., r5_hero, d1_hero, d2_hero, ..., d5_hero. Уберем их из выборки, и проведем кросс-валидацию для логистической регрессии на новой выборке с подбором лучшего параметра регуляризации. "
   ]
  },
  {
   "cell_type": "code",
   "execution_count": 13,
   "metadata": {},
   "outputs": [
    {
     "name": "stdout",
     "output_type": "stream",
     "text": [
      "Best parameter  {'C': 0.0040000000000000001}\n",
      "Best score  0.716212244225\n",
      "Time elapsed =  0:00:35.170549\n"
     ]
    }
   ],
   "source": [
    "categ_features = ['lobby_type', 'r1_hero', 'r2_hero', 'r3_hero', 'r4_hero', 'r5_hero', \n",
    "                  'd1_hero', 'd2_hero', 'd3_hero', 'd4_hero', 'd5_hero']\n",
    "X_train_nocateg = X_train.drop(categ_features, axis = 1)\n",
    "X_train_nocateg = X_train_nocateg.fillna(0)\n",
    "\n",
    "X_train_nocateg_scaled = pd.DataFrame(data = StandardScaler().fit_transform(X_train_nocateg))\n",
    "get_logreg_score(X_train_nocateg_scaled, y_train)"
   ]
  },
  {
   "cell_type": "markdown",
   "metadata": {},
   "source": [
    "На предыдущем шаге мы исключили из выборки признаки rM_hero и dM_hero, которые показывают, какие именно герои играли за каждую команду. Это важные признаки — герои имеют разные характеристики, и некоторые из них выигрывают чаще, чем другие. \n",
    "\n",
    "Выясним из данных, сколько различных идентификаторов героев существует в данной игре."
   ]
  },
  {
   "cell_type": "code",
   "execution_count": 14,
   "metadata": {},
   "outputs": [
    {
     "data": {
      "text/plain": [
       "array([  1,   2,   3,   4,   5,   6,   7,   8,   9,  10,  11,  12,  13,\n",
       "        14,  15,  16,  17,  18,  19,  20,  21,  22,  23,  25,  26,  27,\n",
       "        28,  29,  30,  31,  32,  33,  34,  35,  36,  37,  38,  39,  40,\n",
       "        41,  42,  43,  44,  45,  46,  47,  48,  49,  50,  51,  52,  53,\n",
       "        54,  55,  56,  57,  58,  59,  60,  61,  62,  63,  64,  65,  66,\n",
       "        67,  68,  69,  70,  71,  72,  73,  74,  75,  76,  77,  78,  79,\n",
       "        80,  81,  82,  83,  84,  85,  86,  87,  88,  89,  90,  91,  92,\n",
       "        93,  94,  95,  96,  97,  98,  99, 100, 101, 102, 103, 104, 105,\n",
       "       106, 109, 110, 112], dtype=int64)"
      ]
     },
     "execution_count": 14,
     "metadata": {},
     "output_type": "execute_result"
    }
   ],
   "source": [
    "categ_features.remove('lobby_type')\n",
    "heroes = data_train[categ_features].values\n",
    "n = np.unique(heroes)\n",
    "n"
   ]
  },
  {
   "cell_type": "code",
   "execution_count": 15,
   "metadata": {},
   "outputs": [
    {
     "data": {
      "text/plain": [
       "108"
      ]
     },
     "execution_count": 15,
     "metadata": {},
     "output_type": "execute_result"
    }
   ],
   "source": [
    "n.size"
   ]
  },
  {
   "cell_type": "markdown",
   "metadata": {},
   "source": [
    "Видим, что число РАЗЛИЧНЫХ идентификаторов героев = 108. Однако в выборке существуют также и такие идентификаторы, как 109, 110, 112. Это говорит о том, что есть пробелы, то есть идентификаторы принадлежат множеству натуральных чисел от 1 до 112, но среди идентификаторов не находятся числа 24, 107, 108, 111. \n",
    "\n",
    "Тем не менее, возьмем размерность нового фрейма X_pick = data_train.shape[0]*112.\n",
    "\n",
    "В X_pick будут нулевые столбцы.\n",
    "\n",
    "Воспользуемся подходом \"мешок слов\" для кодирования информации о героях. Пусть всего в игре имеет N (108, но возьмем 112) различных героев. Сформируем N признаков, при этом i-й будет равен нулю, если i-й герой не участвовал в матче; единице, если i-й герой играл за команду Radiant; минус единице, если i-й герой играл за команду Dire."
   ]
  },
  {
   "cell_type": "code",
   "execution_count": 16,
   "metadata": {},
   "outputs": [
    {
     "name": "stderr",
     "output_type": "stream",
     "text": [
      "C:\\Users\\olga\\Anaconda3\\lib\\site-packages\\ipykernel\\__main__.py:7: VisibleDeprecationWarning: using a non-integer number instead of an integer will result in an error in the future\n",
      "C:\\Users\\olga\\Anaconda3\\lib\\site-packages\\ipykernel\\__main__.py:8: VisibleDeprecationWarning: using a non-integer number instead of an integer will result in an error in the future\n"
     ]
    }
   ],
   "source": [
    "N = 112\n",
    "X_pick = np.zeros((data_train.shape[0], N))\n",
    "\n",
    "for i, match_id in enumerate(data_train.index):\n",
    "    for p in range(5):\n",
    "        X_pick[i, data_train.loc[match_id, 'r%d_hero' % (p+1)]-1] = 1\n",
    "        X_pick[i, data_train.loc[match_id, 'd%d_hero' % (p+1)]-1] = -1"
   ]
  },
  {
   "cell_type": "code",
   "execution_count": 17,
   "metadata": {
    "collapsed": true
   },
   "outputs": [],
   "source": [
    "X_pick_df = pd.DataFrame(data = X_pick)"
   ]
  },
  {
   "cell_type": "markdown",
   "metadata": {},
   "source": [
    "Конкатенируем два набора дынных X_train_nocateg_scaled и X_pick_df - набор без категориальных признаков (с отмасштабированными переменными) и набор со 112 признаками, в которых закодирована информация о героях (категориальных признаках) с помощью \"мешка слов\"."
   ]
  },
  {
   "cell_type": "code",
   "execution_count": 18,
   "metadata": {
    "collapsed": true
   },
   "outputs": [],
   "source": [
    "X_train_bag = X_train_nocateg_scaled.join(X_pick_df, rsuffix='_')"
   ]
  },
  {
   "cell_type": "markdown",
   "metadata": {},
   "source": [
    "Качество алгоритма на новой полученной выборке:"
   ]
  },
  {
   "cell_type": "code",
   "execution_count": 19,
   "metadata": {},
   "outputs": [
    {
     "name": "stdout",
     "output_type": "stream",
     "text": [
      "Best parameter  {'C': 0.01}\n",
      "Best score  0.751417280128\n",
      "Time elapsed =  0:01:01.358725\n"
     ]
    }
   ],
   "source": [
    "get_logreg_score(X_train_bag, y_train)"
   ]
  },
  {
   "cell_type": "markdown",
   "metadata": {},
   "source": [
    "Заметим, что это самое высокое качество из всех полученных нами в ходе всего исследования. "
   ]
  },
  {
   "cell_type": "code",
   "execution_count": 21,
   "metadata": {
    "collapsed": true
   },
   "outputs": [],
   "source": [
    "data_test = pd.read_csv('C:./features_test.csv', index_col = 'match_id')"
   ]
  },
  {
   "cell_type": "markdown",
   "metadata": {
    "collapsed": true
   },
   "source": [
    "Построим предсказания вероятностей победы команды Radiant для тестовой выборки с помощью лучшей из изученных моделей (лучшей с точки зрения AUC-ROC на кросс-валидации). \n",
    "\n",
    "**Лучшая модель - последняя (логистическая регрессия с l2 регуляризацией, коэффициент регуляризации = 0.01). Обучающий набор данных - X_train_bag.**\n",
    "\n",
    "Для начала нужно обработать тестовую выборку (так же как и обучающую). "
   ]
  },
  {
   "cell_type": "code",
   "execution_count": 22,
   "metadata": {},
   "outputs": [
    {
     "data": {
      "text/plain": [
       "array([  1,   2,   3,   4,   5,   6,   7,   8,   9,  10,  11,  12,  13,\n",
       "        14,  15,  16,  17,  18,  19,  20,  21,  22,  23,  25,  26,  27,\n",
       "        28,  29,  30,  31,  32,  33,  34,  35,  36,  37,  38,  39,  40,\n",
       "        41,  42,  43,  44,  45,  46,  47,  48,  49,  50,  51,  52,  53,\n",
       "        54,  55,  56,  57,  58,  59,  60,  61,  62,  63,  64,  65,  66,\n",
       "        67,  68,  69,  70,  71,  72,  73,  74,  75,  76,  77,  78,  79,\n",
       "        80,  81,  82,  83,  84,  85,  86,  87,  88,  89,  90,  91,  92,\n",
       "        93,  94,  95,  96,  97,  98,  99, 100, 101, 102, 103, 104, 105,\n",
       "       106, 109, 110, 112], dtype=int64)"
      ]
     },
     "execution_count": 22,
     "metadata": {},
     "output_type": "execute_result"
    }
   ],
   "source": [
    "categ_features = ['lobby_type', 'r1_hero', 'r2_hero', 'r3_hero', 'r4_hero', 'r5_hero', \n",
    "                  'd1_hero', 'd2_hero', 'd3_hero', 'd4_hero', 'd5_hero']\n",
    "X_test_nocateg = data_test.drop(categ_features, axis = 1)\n",
    "X_test_nocateg = X_test_nocateg.fillna(0)\n",
    "X_test_nocateg_scaled = pd.DataFrame(data = StandardScaler().fit_transform(X_test_nocateg))\n",
    "\n",
    "categ_features.remove('lobby_type')\n",
    "heroes_t = data_test[categ_features].values\n",
    "n_t = np.unique(heroes_t)\n",
    "n_t"
   ]
  },
  {
   "cell_type": "code",
   "execution_count": 23,
   "metadata": {},
   "outputs": [
    {
     "name": "stderr",
     "output_type": "stream",
     "text": [
      "C:\\Users\\olga\\Anaconda3\\lib\\site-packages\\ipykernel\\__main__.py:6: VisibleDeprecationWarning: using a non-integer number instead of an integer will result in an error in the future\n",
      "C:\\Users\\olga\\Anaconda3\\lib\\site-packages\\ipykernel\\__main__.py:7: VisibleDeprecationWarning: using a non-integer number instead of an integer will result in an error in the future\n"
     ]
    }
   ],
   "source": [
    "N = 112\n",
    "X_pick_test = np.zeros((data_test.shape[0], N))\n",
    "\n",
    "for i, match_id in enumerate(data_test.index):\n",
    "    for p in range(5):\n",
    "        X_pick_test[i, data_test.loc[match_id, 'r%d_hero' % (p+1)]-1] = 1\n",
    "        X_pick_test[i, data_test.loc[match_id, 'd%d_hero' % (p+1)]-1] = -1"
   ]
  },
  {
   "cell_type": "code",
   "execution_count": 24,
   "metadata": {
    "collapsed": true
   },
   "outputs": [],
   "source": [
    "X_pick_test_df = pd.DataFrame(data = X_pick_test)\n",
    "X_test_bag = X_test_nocateg_scaled.join(X_pick_test_df, rsuffix='_')"
   ]
  },
  {
   "cell_type": "markdown",
   "metadata": {},
   "source": [
    "Строим модель:"
   ]
  },
  {
   "cell_type": "code",
   "execution_count": 25,
   "metadata": {
    "collapsed": true
   },
   "outputs": [],
   "source": [
    "lr = LogisticRegression(random_state=241, C = 0.01)\n",
    "lr.fit(X_train_bag, y_train)\n",
    "\n",
    "y_predictions = lr.predict_proba(X_test_bag)"
   ]
  },
  {
   "cell_type": "markdown",
   "metadata": {},
   "source": [
    "Предсказания вероятностей победы команды Radiant:"
   ]
  },
  {
   "cell_type": "code",
   "execution_count": 26,
   "metadata": {},
   "outputs": [
    {
     "data": {
      "text/plain": [
       "array([[ 0.1860374 ,  0.8139626 ],\n",
       "       [ 0.2546468 ,  0.7453532 ],\n",
       "       [ 0.80497946,  0.19502054],\n",
       "       ..., \n",
       "       [ 0.77095634,  0.22904366],\n",
       "       [ 0.40456859,  0.59543141],\n",
       "       [ 0.56049236,  0.43950764]])"
      ]
     },
     "execution_count": 26,
     "metadata": {},
     "output_type": "execute_result"
    }
   ],
   "source": [
    "y_predictions"
   ]
  },
  {
   "cell_type": "code",
   "execution_count": null,
   "metadata": {
    "collapsed": true
   },
   "outputs": [],
   "source": [
    "print(np.min(y_predictions), np.max(y_predictions))"
   ]
  },
  {
   "cell_type": "markdown",
   "metadata": {},
   "source": [
    "Предсказанные вероятности адекватные — находятся на отрезке [0, 1], не совпадают между собой.\n",
    "\n",
    "np.min(y_predictions) = 0.0040168212460378605\n",
    "\n",
    "np.max(y_predictions) = 0.99598317875396214"
   ]
  },
  {
   "cell_type": "markdown",
   "metadata": {
    "collapsed": true
   },
   "source": [
    "**Мини-отчет для подхода 2: логистическая регрессия**\n",
    "\n",
    "* Какое качество получилось у логистической регрессии над всеми исходными признаками? Как оно соотносится с качеством градиентного бустинга? Быстрее ли работает логистическая регрессия по сравнению с градиентным бустингом?\n",
    "\n",
    "-- Лучшие результаты для градиентного бустинга:\n",
    "n_estimators = 40, Time elapsed = 0:09:34.923976\n",
    "n_estimators = 40, Score = 0.693818447332\n",
    "\n",
    "-- Лучшие результаты для логистической регрессии (признаки отмасштабированы). Результат до кодирования категориальных признаков с помощью \"мешка слов\":\n",
    "Best score  0.716164194651\n",
    "Time elapsed =  0:00:37.340191\n",
    "\n",
    "(Вам может показаться, что время большое. Однако результат будет зависеть от характеристик Вашего компьютера. Если Вы будете прогонять код, то увидите, что результат получится другой. У меня слабый компьютер, поэтому время очень большое.)\n",
    "\n",
    "По моим результатам, логистическая регрессия работает медленнее, но качество алгоритма выше.\n",
    "\n",
    "\n",
    "* Сколько различных идентификаторов героев существует в данной игре?\n",
    "\n",
    "108\n",
    "\n",
    "* Какое получилось качество при добавлении \"мешка слов\" по героям? Улучшилось ли оно по сравнению с предыдущим вариантом? Чем вы можете это объяснить?\n",
    "\n",
    "Best parameter  {'C': 0.01}\n",
    "Best score  0.751417280128\n",
    "\n",
    "Качество выросло. Когда мы исключили из выборки признаки rM_hero и dM_hero, которые показывают, какие именно герои играли за каждую команду, мы потеряли действительно значимые признаки. Ведь это важные признаки — герои имеют разные характеристики, и некоторые из них выигрывают чаще, чем другие. При добавлении \"мешка слов\" по героям, мы как раз корректно учли наши категориальные признаки. А следовательно и повысили качество.\n",
    "\n",
    "* Какое минимальное и максимальное значение прогноза на тестовой выборке получилось у лучшего из алгоритмов?\n",
    "\n",
    "np.min(y_predictions) = 0.0040168212460378605\n",
    "\n",
    "np.max(y_predictions) = 0.99598317875396214\n",
    "\n"
   ]
  },
  {
   "cell_type": "code",
   "execution_count": null,
   "metadata": {
    "collapsed": true
   },
   "outputs": [],
   "source": []
  }
 ],
 "metadata": {
  "kernelspec": {
   "display_name": "Python 3",
   "language": "python",
   "name": "python3"
  },
  "language_info": {
   "codemirror_mode": {
    "name": "ipython",
    "version": 3
   },
   "file_extension": ".py",
   "mimetype": "text/x-python",
   "name": "python",
   "nbconvert_exporter": "python",
   "pygments_lexer": "ipython3",
   "version": "3.6.3"
  }
 },
 "nbformat": 4,
 "nbformat_minor": 2
}
